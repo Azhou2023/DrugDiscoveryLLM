{
 "cells": [
  {
   "cell_type": "code",
   "execution_count": 23,
   "metadata": {},
   "outputs": [
    {
     "name": "stdout",
     "output_type": "stream",
     "text": [
      "Initial generation: Molecule: Cc1c(CN2CCN(C(=O)c3ccc(Oc4ccc(C(=O)NO)cc4)cc3)CC2)c(-c2cnc(N)nc2)c[nH]n1\n",
      " | Binding affinity: -9.16\n",
      "Iteration 1: Molecule: Cc1c(CN2CCN(C(=O)c3ccc(Oc4ccc(C(=O)NCc5ccccc5)cc4)cc3)CC2)c(-c2cnc(N)nc2)c[nH]n1\n",
      " | Binding affinity: -10.35\n",
      "Iteration 2: Molecule: Cc1c(CN2CCN(C(=O)c3ccc(Oc4ccc(C(=O)Nc5ccc(Cl)cc5)cc4)cc3)CC2)c(-c2cnc(N)nc2)c[nH]n1\n",
      " | Binding affinity: -5.13\n",
      "Iteration 3: Molecule: Cc1c(CN2CCN(C(=O)c3ccc(Oc4ccc(C(=O)Nc5ccc(OC)cc5)cc4)cc3)CC2)c(-c2cnc(N)nc2)c[nH]n1\n",
      " | Binding affinity: -5.67\n",
      "Iteration 4: Molecule: Cc1c(CN2CCN(C(=O)c3ccc(Oc4ccc(C(=O)NCCCN5CCCCC5)cc4)cc3)CC2)c(-c2cnc(N)nc2)c[nH]n1\n",
      " | Binding affinity: -9.22\n",
      "Iteration 5: Molecule: Cc1c(CN2CCN(C(=O)c3ccc(Oc4ccc(C(=O)NCCCN5CCOCC5)cc4)cc3)CC2)c(-c2cnc(N)nc2)c[nH]n1\n",
      " | Binding affinity: -9.79\n",
      "Iteration 6: Molecule: Cc1c(CN2CCN(C(=O)c3ccc(Oc4ccc(C(=O)NCCCN5CC(F)(F)CC5)cc4)cc3)CC2)c(-c2cnc(N)nc2)c[nH]n1\n",
      " | Binding affinity: -8.33\n",
      "Iteration 7: Molecule: Cc1c(CN2CCN(C(=O)c3ccc(Oc4ccc(C(=O)NCCc5ccccc5)cc4)cc3)CC2)c(-c2cnc(N)nc2)c[nH]n1\n",
      " | Binding affinity: -9.41\n",
      "Iteration 8: Molecule: Cc1c(CN2CCN(C(=O)c3ccc(Oc4ccc(C(=O)NCCc5ccc(F)cc5)cc4)cc3)CC2)c(-c2cnc(N)nc2)c[nH]n1\n",
      " | Binding affinity: -9.65\n",
      "Iteration 9: Molecule: Cc1c(CN2CCN(C(=O)c3ccc(Oc4ccc(C(=O)NCc5ccccc5)cc4)cc3)CC2)c(-c2cnc(NC)nc2)c[nH]n1\n",
      " | Binding affinity: -10.19\n",
      "Iteration 10: Molecule: Cc1c(CN2CCN(C(=O)c3ccc(Oc4ccc(C(=O)NCc5ccccc5)cc4)cc3)CC2)c(-c2cnc(N(C)C)nc2)c[nH]n1\n",
      " | Binding affinity: -9.35\n",
      "Iteration 11: Molecule: Cc1c(CN2CCN(C(=O)c3ccc(Oc4ccc(C(=O)NCc5ccc(Cl)cc5)cc4)cc3)CC2)c(-c2cnc(N)nc2)c[nH]n1\n",
      " | Binding affinity: -8.74\n",
      "Iteration 12: Molecule: Cc1c(CN2CCN(C(=O)c3ccc(Oc4ccc(C(=O)NCCCN5CCCCC5)cc4)cc3)CC2)c(-c2cnc(NC)nc2)c[nH]n1\n",
      " | Binding affinity: -9.67\n",
      "Iteration 13: Molecule: Cc1c(CN2CCN(C(=O)c3ccc(Oc4ccc(C(=O)NCCCN5CCCCC5)cc4)cc3)CC2)c(-c2cnc(N)nc2)c[nH]n1\n",
      " | Binding affinity: -9.36\n",
      "Iteration 14: Molecule: Cc1c(CN2CCN(C(=O)c3ccc(Oc4ccc(C(=O)NCCCN5CCOCC5)cc4)cc3)CC2)c(-c2cnc(NC)nc2)c[nH]n1\n",
      " | Binding affinity: -9.11\n",
      "Iteration 15: Molecule: Cc1c(CN2CCN(C(=O)c3ccc(Oc4ccc(C(=O)NCc5ccccc5)cc4)cc3)CC2)c(-c2cncn2)c[nH]n1\n",
      " | Binding affinity: -10.48\n",
      "Iteration 16: Molecule: Cc1c(CN2CCN(C(=O)c3ccc(Oc4ccc(C(=O)NCc5ccccc5)cc4)cc3)CC2)c(-c2cnc[nH]2)c[nH]n1\n",
      " | Binding affinity: -10.74\n",
      "Iteration 17: Molecule: Cc1c(CN2CCN(C(=O)c3ccc(Oc4ccc(C(=O)NCCc5ccccc5)cc4)cc3)CC2)c(-c2cnc[nH]2)c[nH]n1\n",
      " | Binding affinity: -11.15\n",
      "Iteration 18: Molecule: Cc1c(CN2CCN(C(=O)c3ccc(Oc4ccc(C(=O)NCCc5ccc(F)cc5)cc4)cc3)CC2)c(-c2cnc[nH]2)c[nH]n1\n",
      " | Binding affinity: -10.33\n",
      "Iteration 19: Molecule: Cc1c(CN2CCN(C(=O)c3ccc(Oc4ccc(C(=O)NC(C)(C)c5ccccc5)cc4)cc3)CC2)c(-c2cnc[nH]2)c[nH]n1\n",
      " | Binding affinity: -10.28\n",
      "Iteration 20: Molecule: Cc1c(CN2CCN(C(=O)c3ccc(Oc4ccc(C(=O)NCCc5ccccc5)cc4)cc3)CC2)c(-c2cnc(N)nc2)c[nH]n1\n",
      " | Binding affinity: -8.88\n",
      "Best ligand: Cc1c(CN2CCN(C(=O)c3ccc(Oc4ccc(C(=O)NCCc5ccccc5)cc4)cc3)CC2)c(-c2cnc[nH]2)c[nH]n1\n",
      " with binding affinity -11.15 at iteration 17\n"
     ]
    },
    {
     "data": {
      "image/png": "[encoded data removed]",
      "text/plain": [
       "<Figure size 640x480 with 1 Axes>"
      ]
     },
     "metadata": {},
     "output_type": "display_data"
    }
   ],
   "source": [
    "import base64\n",
    "from google import genai\n",
    "from google.genai import types\n",
    "from dotenv import load_dotenv\n",
    "import os\n",
    "import matplotlib.pyplot as plt\n",
    "\n",
    "from api import get_docking_data\n",
    "\n",
    "load_dotenv()\n",
    "\n",
    "protein = \"c-met\"\n",
    "\n",
    "system_instructions = \"You are an assistant helping a lab generate ligands that can bind to certain proteins with high binding affinity.\"\n",
    "client = genai.Client(api_key=os.environ[\"API_KEY\"])\n",
    "chat = client.chats.create(model=\"gemini-2.0-flash\", config=types.GenerateContentConfig(system_instruction=system_instructions))\n",
    "\n",
    "init_prompt = f\"Generate a ligand that can bind to {protein} with high binding affinity. Provide only your final answer in SMILES encoding format, and make sure that the SMILES string is valid.\"\n",
    "response = chat.send_message(init_prompt)\n",
    "ligand = response.text\n",
    "\n",
    "data = get_docking_data(ligand, protein)\n",
    "invalid_ligand = False\n",
    "if data:\n",
    "    print(f\"Initial generation: Molecule: {ligand} | Binding affinity: {data[\"binding_affinity\"] if not invalid_ligand else 0}\")\n",
    "else:\n",
    "    print(\"Initial generation: Invalid ligand\")\n",
    "    invalid_ligand = True\n",
    "\n",
    "num_iterations = 50\n",
    "affinities = [data[\"binding_affinity\"]] if not invalid_ligand else []\n",
    "best_affinity = data[\"binding_affinity\"] if not invalid_ligand else 0\n",
    "best_molecule = ligand\n",
    "best_iteration = 0\n",
    "for i in range(num_iterations):\n",
    "    iterated_prompt = \"\"\n",
    "    if not invalid_ligand:\n",
    "        # iterated_prompt = [f\"\"\"Software shows that the molecule you generated, {ligand}, had a binding affinity of {data[\"binding_affinity\"]} to {protein}.\n",
    "        #                     Additionally, the torsional energy was {data[\"torsional_energy\"]}, the number of rotatable bonds was {data[\"number_of_rotatable_bonds\"]},\n",
    "        #                     the number of hydrogen bonds was {data[\"hydrogen_bonds\"]}, the number of pi pi stacking interactions was {data[\"pi_pi_stacking_interactions\"]},\n",
    "        #                     the number of salt bridges was {data[\"salt_bridges\"]}, and the number of t stacking interactions was {data[\"t_stacking_interactions\"]}. \n",
    "        #                     Three pictures of the interaction between the ligand and protein are also included.\n",
    "        #                     Based on this information, generate a better ligand, following the same answer format\"\"\",\n",
    "        #                     types.Part.from_bytes(data=data[\"images\"][\"view0\"], mime_type=\"image/jpeg\"), types.Part.from_bytes(data=data[\"images\"][\"view1\"], mime_type=\"image/jpeg\"), types.Part.from_bytes(data=data[\"images\"][\"view2\"], mime_type=\"image/jpeg\")]\n",
    "\n",
    "        # iterated_prompt = [f\"\"\"Software shows that the molecule you generated, {ligand}, had a binding affinity of {data[\"binding_affinity\"]} to {protein}.\n",
    "        #                    3 pictures of the interaction between the ligand and protein are also included.\n",
    "        #                     Based on this information, generate a better ligand, following the same answer format\"\"\",\n",
    "        #                     types.Part.from_bytes(data=data[\"images\"][\"view0\"], mime_type=\"image/jpeg\"), types.Part.from_bytes(data=data[\"images\"][\"view1\"], mime_type=\"image/jpeg\"), types.Part.from_bytes(data=data[\"images\"][\"view2\"], mime_type=\"image/jpeg\")]\n",
    "        \n",
    "        iterated_prompt = f\"\"\"Software shows that the molecule you generated, {ligand}, had a binding affinity of {data[\"binding_affinity\"]} to {protein}. \n",
    "        Based on this information, generate a better ligand, following the same answer format\"\"\"\n",
    "    else:\n",
    "        iterated_prompt = f\"Software shows that the molecule you generated, {ligand}, had a binding affinity of 0 to {protein}. Generate a new ligand, following the same answer format.\"\n",
    "    try:\n",
    "        response = chat.send_message(iterated_prompt)\n",
    "        ligand = response.text\n",
    "\n",
    "        data = get_docking_data(ligand, protein)\n",
    "        if(data):\n",
    "            invalid_ligand=False\n",
    "            affinities.append(data[\"binding_affinity\"])\n",
    "            if data[\"binding_affinity\"]<best_affinity:\n",
    "                best_affinity = data[\"binding_affinity\"]\n",
    "                best_molecule = ligand\n",
    "                best_iteration = i+1\n",
    "            print(f\"Iteration {i+1}: Molecule: {ligand} | Binding affinity: {data[\"binding_affinity\"]}\")\n",
    "            open('view0.png', 'wb').write(base64.b64decode(data['images']['view0']))\n",
    "            open('view1.png', 'wb').write(base64.b64decode(data['images']['view1']))\n",
    "            open('view2.png', 'wb').write(base64.b64decode(data['images']['view2']))\n",
    "        else:\n",
    "            invalid_ligand=True\n",
    "            print(f\"Iteration {i+1}: Invalid ligand\")\n",
    "    except:\n",
    "        break\n",
    "    \n",
    "print(f\"Best ligand: {best_molecule} with binding affinity {best_affinity} at iteration {best_iteration}\")\n",
    "scatter = plt.scatter(range(len(affinities)), affinities)\n",
    "plt.xlabel(\"Iterations\")\n",
    "plt.ylabel(\"Binding affinity\")\n",
    "ax = scatter.axes\n",
    "ax.invert_yaxis()\n",
    "plt.show()\n",
    "\n"
   ]
  },
  {
   "cell_type": "code",
   "execution_count": 24,
   "metadata": {},
   "outputs": [
    {
     "name": "stdout",
     "output_type": "stream",
     "text": [
      "PearsonRResult(statistic=np.float64(-0.49607116195542816), pvalue=np.float64(0.022187011822134232))\n"
     ]
    }
   ],
   "source": [
    "from scipy.stats import pearsonr\n",
    "\n",
    "print(pearsonr(range(len(affinities)), affinities))"
   ]
  }
 ],
 "metadata": {
  "kernelspec": {
   "display_name": "drug-discovery-llm",
   "language": "python",
   "name": "python3"
  },
  "language_info": {
   "codemirror_mode": {
    "name": "ipython",
    "version": 3
   },
   "file_extension": ".py",
   "mimetype": "text/x-python",
   "name": "python",
   "nbconvert_exporter": "python",
   "pygments_lexer": "ipython3",
   "version": "3.12.9"
  }
 },
 "nbformat": 4,
 "nbformat_minor": 2
}

{
 "cells": [
  {
   "cell_type": "code",
   "execution_count": 2,
   "metadata": {},
   "outputs": [
    {
     "name": "stdout",
     "output_type": "stream",
     "text": [
      "Initial generation: Molecule: CC(=O)Nc1ccc(cc1)-c1cnc(C)c(Nc2cc(C(=O)N3CCOCC3)ccn2)c1\n",
      " | Binding affinity: -10.52\n",
      "Iteration 1: Molecule: CC(=O)Nc1ccc(cc1)-c1cnc(C)c(Nc2cc(C(=O)N3CCOCC3)c(F)cn2)c1\n",
      " | Binding affinity: -10.25\n",
      "Iteration 2: Molecule: CC(=O)Nc1ccc(cc1)-c1cnc(C)c(Nc2cc(C(=O)N3CCOCC3)c(Cl)cn2)c1\n",
      " | Binding affinity: -10.82\n",
      "Iteration 3: Molecule: CC(=O)Nc1ccc(cc1)-c1cnc(C)c(Nc2cc(C(=O)N3CCCC3)c(Cl)cn2)c1\n",
      " | Binding affinity: -10.7\n",
      "Iteration 4: Molecule: CC(=O)Nc1ccc(cc1)-c1cnc(C)c(Nc2cc(C(=O)N3CCCCC3)c(Cl)cn2)c1\n",
      " | Binding affinity: -11.18\n",
      "Iteration 5: Molecule: CC(=O)Nc1ccc(cc1)-c1cnc(C)c(Nc2cc(C(=O)N3CCCCCC3)c(Cl)cn2)c1\n",
      " | Binding affinity: -11.26\n",
      "Iteration 6: Molecule: CC(=O)Nc1ccc(cc1)-c1cnc(C)c(Nc2cc(C(=O)N3CCN(C)CC3)c(Cl)cn2)c1\n",
      " | Binding affinity: -10.7\n",
      "Iteration 7: Molecule: CC(=O)Nc1ccc(cc1)-c1cnc(C)c(Nc2cc(C(=O)N3CCOCC3)c(Br)cn2)c1\n",
      " | Binding affinity: -10.92\n",
      "Iteration 8: Molecule: CC(=O)Nc1ccc(cc1)-c1cnc(C)c(Nc2cc(C(=O)N3CCCCC3)c(Br)cn2)c1\n",
      " | Binding affinity: -11.26\n",
      "Iteration 9: Molecule: CC(=O)Nc1ccc(cc1)-c1cnc(C)c(Nc2cc(C(=O)N3CCCCCC3)c(Br)cn2)c1\n",
      " | Binding affinity: -11.24\n",
      "Iteration 10: Molecule: CC(=O)Nc1ccc(cc1)C(=O)Nc1ccc(cc1)-c1cnc(C)c(Nc2cc(C(=O)N3CCOCC3)ccn2)c1\n",
      " | Binding affinity: -8.89\n",
      "Iteration 11: Molecule: CC(=O)Nc1ccc(cc1)-c1cnc(C)c(Nc2cc(C(=O)c3ccccc3)ccn2)c1\n",
      " | Binding affinity: -11.25\n",
      "Iteration 12: Molecule: CC(=O)Nc1ccc(cc1)-c1cnc(C)c(Nc2cc(C(=O)c3ccc(F)cc3)ccn2)c1\n",
      " | Binding affinity: -10.87\n",
      "Iteration 13: Molecule: CC(=O)Nc1ccc(cc1)-c1cnc(C)c(Nc2cc(C(=O)c3ccc(Cl)cc3)ccn2)c1\n",
      " | Binding affinity: -11.22\n",
      "Iteration 14: Molecule: CC(=O)Nc1ccc(cc1)-c1cnc(C)c(Nc2cc(C(=O)c3ccc(Br)cc3)ccn2)c1\n",
      " | Binding affinity: -11.25\n",
      "Iteration 15: Molecule: CC(=O)Nc1ccc(cc1)-c1cnc(C)c(Nc2cc(C(=O)c3cccc(C)c3)ccn2)c1\n",
      " | Binding affinity: -11.34\n",
      "Iteration 16: Molecule: CC(=O)Nc1ccc(cc1)-c1cnc(C)c(Nc2cc(C(=O)c3cccc(F)c3)ccn2)c1\n",
      " | Binding affinity: -11.17\n",
      "Iteration 17: Molecule: CC(=O)Nc1ccc(cc1)-c1cnc(C)c(Nc2cc(C(=O)c3cccc(Cl)c3)ccn2)c1\n",
      " | Binding affinity: -11.16\n",
      "Iteration 18: Molecule: CC(=O)Nc1ccc(cc1)-c1cnc(C)c(Nc2cc(C(=O)c3cccc(Br)c3)ccn2)c1\n",
      " | Binding affinity: -11.33\n",
      "Iteration 19: Molecule: CC(=O)Nc1ccc(cc1)-c1cnc(C)c(Nc2cc(C(=O)c3cc(Cl)ccc3Cl)ccn2)c1\n",
      " | Binding affinity: -11.06\n",
      "Iteration 20: Molecule: CC(=O)Nc1ccc(cc1)-c1cnc(C)c(Nc2cc(C(=O)c3ccccc3F)ccn2)c1\n",
      " | Binding affinity: -11.14\n",
      "Best ligand: CC(=O)Nc1ccc(cc1)-c1cnc(C)c(Nc2cc(C(=O)c3cccc(C)c3)ccn2)c1\n",
      " with binding affinity -11.34 at iteration 15\n"
     ]
    },
    {
     "data": {
      "image/png": "[encoded data removed]",
      "text/plain": [
       "<Figure size 640x480 with 1 Axes>"
      ]
     },
     "metadata": {},
     "output_type": "display_data"
    }
   ],
   "source": [
    "from google import genai\n",
    "from google.genai import types\n",
    "from dotenv import load_dotenv\n",
    "import os\n",
    "import matplotlib.pyplot as plt\n",
    "\n",
    "from api import calculate_affinity\n",
    "\n",
    "load_dotenv()\n",
    "\n",
    "protein = \"brd4\"\n",
    "\n",
    "system_instructions = \"You are an assistant helping a lab generate ligands that can bind to certain proteins with high binding affinity.\"\n",
    "client = genai.Client(api_key=os.environ[\"API_KEY\"])\n",
    "chat = client.chats.create(model=\"gemini-2.0-flash\", config=types.GenerateContentConfig(system_instruction=system_instructions))\n",
    "\n",
    "init_prompt = f\"Generate a ligand that can bind to {protein} with high binding affinity. Provide only your final answer in SMILES encoding format, and make sure that the SMILES string is valid.\"\n",
    "response = chat.send_message(init_prompt)\n",
    "ligand = response.text\n",
    "\n",
    "affinity = calculate_affinity(ligand, protein)\n",
    "print(f\"Initial generation: Molecule: {ligand} | Binding affinity: {affinity}\")\n",
    "\n",
    "num_iterations = 20\n",
    "affinities = [affinity]\n",
    "best_affinity = affinity\n",
    "best_molecule = ligand\n",
    "best_iteration = 0\n",
    "for i in range(num_iterations):\n",
    "    iterated_prompt = f\"Software shows that the molecule you generated ({ligand}) has a binding affinity of {affinity} to {protein}. Based on this information, generate a better ligand, following the same answer format\"\n",
    "    response = chat.send_message(iterated_prompt)\n",
    "    ligand = response.text\n",
    "\n",
    "    affinity = calculate_affinity(ligand, protein)\n",
    "    affinities.append(affinity)\n",
    "    if affinity<best_affinity:\n",
    "        best_affinity = affinity\n",
    "        best_molecule = ligand\n",
    "        best_iteration = i+1\n",
    "    print(f\"Iteration {i+1}: Molecule: {ligand} | Binding affinity: {affinity}\")\n",
    "\n",
    "print(f\"Best ligand: {best_molecule} with binding affinity {best_affinity} at iteration {best_iteration}\")\n",
    "scatter = plt.scatter(range(0, num_iterations+1), affinities)\n",
    "plt.xlabel(\"Iteration #\")\n",
    "plt.ylabel(\"Binding affinity\")\n",
    "ax = scatter.axes\n",
    "ax.invert_yaxis()\n",
    "plt.show()\n",
    "\n"
   ]
  }
 ],
 "metadata": {
  "kernelspec": {
   "display_name": "drug-discovery-llm",
   "language": "python",
   "name": "python3"
  },
  "language_info": {
   "codemirror_mode": {
    "name": "ipython",
    "version": 3
   },
   "file_extension": ".py",
   "mimetype": "text/x-python",
   "name": "python",
   "nbconvert_exporter": "python",
   "pygments_lexer": "ipython3",
   "version": "3.12.9"
  }
 },
 "nbformat": 4,
 "nbformat_minor": 2
}

{
 "cells": [
  {
   "cell_type": "code",
   "execution_count": 3,
   "metadata": {},
   "outputs": [
    {
     "name": "stdout",
     "output_type": "stream",
     "text": [
      "Initial generation: Molecule: C[C@@H](Nc1ccc(C(=O)Nc2ccccc2)cc1)c3nccnc3\n",
      " | Binding affinity: -8.62\n",
      "Iteration 1: Molecule: C[C@@H](Nc1ccc(C(=O)Nc2ccccc2Cl)cc1)c3nccnc3\n",
      " | Binding affinity: -8.89\n",
      "Iteration 2: Molecule: C[C@@H](Nc1ccc(C(=O)Nc2cc(Cl)ccc2Cl)cc1)c3nccnc3\n",
      " | Binding affinity: -9.33\n",
      "Iteration 3: Molecule: C[C@@H](Nc1ccc(C(=O)Nc2cc(Cl)c(F)c(Cl)c2)cc1)c3nccnc3\n",
      " | Binding affinity: -9.19\n",
      "Iteration 4: Molecule: C[C@@H](Nc1ccc(C(=O)Nc2cc(Cl)ccc(Br)c2)cc1)c3nccnc3\n",
      " | Binding affinity: -9.99\n",
      "Iteration 5: Molecule: C[C@@H](Nc1ccc(C(=O)Nc2cc(Cl)c(Br)cc(Br)c2)cc1)c3nccnc3\n",
      " | Binding affinity: -10.34\n",
      "Iteration 6: Molecule: C[C@@H](Nc1ccc(C(=O)Nc2cc(Cl)c(Br)c(I)c(Br)c2)cc1)c3nccnc3\n",
      " | Binding affinity: 0\n",
      "Iteration 7: Molecule: C[C@@H](Nc1ccc(C(=O)Nc2cc(Cl)c(Br)cc(Br)c2)cc1)c3ncncn3\n",
      " | Binding affinity: -10.27\n",
      "Iteration 8: Molecule: C[C@H](Nc1ccc(C(=O)Nc2cc(Cl)c(Br)cc(Br)c2)cc1)c3nccnc3\n",
      " | Binding affinity: -10.73\n",
      "Iteration 9: Molecule: C[C@H](Nc1ccc(C(=O)NCc2cc(Cl)c(Br)cc(Br)c2)cc1)c3nccnc3\n",
      " | Binding affinity: -10.9\n",
      "Iteration 10: Molecule: Cc1ccc(C(=O)NCc2cc(Cl)c(Br)cc(Br)c2)cc1Nc3nccnc3\n",
      " | Binding affinity: -11.03\n",
      "Iteration 11: Molecule: Cc1ccc(C(=O)NCCc2cc(Cl)c(Br)cc(Br)c2)cc1Nc3nccnc3\n",
      " | Binding affinity: -11.68\n",
      "Iteration 12: Molecule: Cc1ccc(C(=O)NCCc2cc(Cl)c(Br)c(I)c(Br)c2)cc1Nc3nccnc3\n",
      " | Binding affinity: 0\n",
      "Iteration 13: Molecule: Cc1ccc(C(=O)NCCc2cc(Cl)c(Br)cc(Br)c2)cc1Nc3ncncn3\n",
      " | Binding affinity: -10.89\n",
      "Iteration 14: Molecule: Cc1ccc(C(=O)NCCc2cc(Cl)c(Br)cc(Br)c2)cc1Nc3cncnc3\n",
      " | Binding affinity: -11.46\n",
      "Iteration 15: Molecule: Cc1ccc(C(=O)NCCc2cc(Cl)c(Br)cc(Br)c2)cc1Nc3ncccn3\n",
      " | Binding affinity: -11.35\n",
      "Iteration 16: Molecule: Cc1ccc(C(=O)NCCc2cc(Cl)c(Br)cc(Br)c2)cc1Nc3ncnc3\n",
      " | Binding affinity: -11.51\n",
      "Iteration 17: Molecule: Cc1ccc(C(=O)NCCc2cc(Cl)c(Br)cc(Br)c2)cc1Nc3cnnn3\n",
      " | Binding affinity: -11.4\n",
      "Iteration 18: Molecule: Cc1ccc(C(=O)NCc2cc(Cl)c(Br)cc(Br)c2)cc1Nc3cncnc3\n",
      " | Binding affinity: -11.15\n",
      "Iteration 19: Molecule: Cc1ccc(C(=O)NCc2cc(Cl)c(Br)cc(Br)c2)cc1Nc3ncccn3\n",
      " | Binding affinity: -10.96\n",
      "Iteration 20: Molecule: Cc1ccc(C(=O)NCc2cc(Cl)c(Br)cc(Br)c2)cc1Nc3ncnc3\n",
      " | Binding affinity: -10.84\n",
      "Best ligand: Cc1ccc(C(=O)NCCc2cc(Cl)c(Br)cc(Br)c2)cc1Nc3nccnc3\n",
      " with binding affinity -11.68 at iteration 11\n"
     ]
    },
    {
     "data": {
      "image/png": "[encoded data removed]",
      "text/plain": [
       "<Figure size 640x480 with 1 Axes>"
      ]
     },
     "metadata": {},
     "output_type": "display_data"
    }
   ],
   "source": [
    "from google import genai\n",
    "from google.genai import types\n",
    "from dotenv import load_dotenv\n",
    "import os\n",
    "import matplotlib.pyplot as plt\n",
    "\n",
    "from api import calculate_affinity\n",
    "\n",
    "load_dotenv()\n",
    "\n",
    "protein = \"brd4\"\n",
    "\n",
    "system_instructions = \"You are an assistant helping a lab generate ligands that can bind to certain proteins with high binding affinity.\"\n",
    "client = genai.Client(api_key=os.environ[\"API_KEY\"])\n",
    "chat = client.chats.create(model=\"gemini-2.0-flash\", config=types.GenerateContentConfig(system_instruction=system_instructions))\n",
    "\n",
    "init_prompt = f\"Generate a ligand that can bind to {protein} with high binding affinity. Provide only your final answer in SMILES encoding format, and make sure that the SMILES string is valid.\"\n",
    "response = chat.send_message(init_prompt)\n",
    "ligand = response.text\n",
    "\n",
    "affinity = calculate_affinity(ligand, protein)\n",
    "print(f\"Initial generation: Molecule: {ligand} | Binding affinity: {affinity}\")\n",
    "\n",
    "num_iterations = 20\n",
    "affinities = [affinity]\n",
    "best_affinity = affinity\n",
    "best_molecule = ligand\n",
    "best_iteration = 0\n",
    "for i in range(num_iterations):\n",
    "    iterated_prompt = f\"Software shows that the molecule you generated ({ligand}) has a binding affinity of {affinity} to {protein}. Based on this information, generate a better ligand, following the same answer format\"\n",
    "    response = chat.send_message(iterated_prompt)\n",
    "    ligand = response.text\n",
    "\n",
    "    affinity = calculate_affinity(ligand, protein)\n",
    "    affinities.append(affinity)\n",
    "    if affinity<best_affinity:\n",
    "        best_affinity = affinity\n",
    "        best_molecule = ligand\n",
    "        best_iteration = i+1\n",
    "    print(f\"Iteration {i+1}: Molecule: {ligand} | Binding affinity: {affinity}\")\n",
    "\n",
    "print(f\"Best ligand: {best_molecule} with binding affinity {best_affinity} at iteration {best_iteration}\")\n",
    "scatter = plt.scatter(range(0, num_iterations+1), affinities)\n",
    "plt.xlabel(\"Iteration #\")\n",
    "plt.ylabel(\"Binding affinity\")\n",
    "ax = scatter.axes\n",
    "ax.invert_yaxis()\n",
    "plt.show()\n",
    "\n"
   ]
  }
 ],
 "metadata": {
  "kernelspec": {
   "display_name": "drug-discovery-llm",
   "language": "python",
   "name": "python3"
  },
  "language_info": {
   "codemirror_mode": {
    "name": "ipython",
    "version": 3
   },
   "file_extension": ".py",
   "mimetype": "text/x-python",
   "name": "python",
   "nbconvert_exporter": "python",
   "pygments_lexer": "ipython3",
   "version": "3.12.9"
  }
 },
 "nbformat": 4,
 "nbformat_minor": 2
}

{
 "cells": [
  {
   "cell_type": "code",
   "execution_count": 1,
   "metadata": {},
   "outputs": [
    {
     "name": "stdout",
     "output_type": "stream",
     "text": [
      "Testing Random information:\n",
      "Trial 1:\n",
      "Initial generation: Molecule: Cc1c(C(C)(C)C)nc(-c2ccc(NC(=O)c3cc(OC)c(OC)cc3)cc2)c(NC(=O)Nc2c(C)cccc2C)n1\n",
      " | Binding affinity: -8.47\n",
      "Iteration 1: Molecule: Cc1c(C(C)(C)C)nc(-c2ccc(NC(=O)c3cc(OC)c(OC)cc3)cc2)c(NC(=O)Nc2cc(C)c(C)cc2C)n1\n",
      " | Binding affinity: -8.6\n",
      "Iteration 2: Molecule: Cc1c(C(C)(C)C)nc(-c2ccc(NC(=O)c3cc(OC)c(OC)cc3)cc2)c(NC(=O)Nc2c(C)cccc2Cl)n1\n",
      " | Binding affinity: -8.46\n",
      "Iteration 3: Molecule: Cc1c(C(C)(C)C)nc(-c2ccc(NC(=O)c3cc(OC)c(OC)cc3)cc2)c(NC(=O)Nc2cc(F)c(C)cc2C)n1\n",
      " | Binding affinity: -8.13\n",
      "Best ligand: Cc1c(C(C)(C)C)nc(-c2ccc(NC(=O)c3cc(OC)c(OC)cc3)cc2)c(NC(=O)Nc2cc(C)c(C)cc2C)n1\n",
      " with binding affinity -8.6 at iteration 1\n"
     ]
    },
    {
     "data": {
      "image/png": "[encoded data removed]",
      "text/plain": [
       "<Figure size 640x480 with 1 Axes>"
      ]
     },
     "metadata": {},
     "output_type": "display_data"
    },
    {
     "name": "stdout",
     "output_type": "stream",
     "text": [
      "PCC: 0.7472216866249641 | P-value: 0.25277831337503587\n",
      "Random information stats:  {'best_affinity': -8.6, 'best_molecule': 'Cc1c(C(C)(C)C)nc(-c2ccc(NC(=O)c3cc(OC)c(OC)cc3)cc2)c(NC(=O)Nc2cc(C)c(C)cc2C)n1\\n', 'best_pcc': np.float64(0.7472216866249641), 'avg_affinity': -8.6, 'avg_best_iteration': 1.0, 'avg_pcc': np.float64(0.7472216866249641), 'avg_runtime': 77.61337280273438}\n"
     ]
    }
   ],
   "source": [
    "import base64\n",
    "from google import genai\n",
    "from google.genai import types\n",
    "from dotenv import load_dotenv\n",
    "import os\n",
    "import matplotlib.pyplot as plt\n",
    "\n",
    "from api import get_docking_data\n",
    "from inference_loop import inference\n",
    "\n",
    "protein = \"c-met\"\n",
    "num_trials = 30\n",
    "\n",
    "def test_configuration(information, num_trials, num_iterations_per_trial):\n",
    "    print(f\"Testing {information} information:\")\n",
    "    best_affinity = float('inf')\n",
    "    best_molecule = \"\"\n",
    "    best_pcc = float('inf')\n",
    "    avg_affinity = 0\n",
    "    avg_best_iteration = 0\n",
    "    avg_pcc = 0\n",
    "    avg_runtime = 0\n",
    "    for i in range(num_trials):\n",
    "        print(f\"Trial {i+1}:\")\n",
    "        results = inference(protein, num_iterations=num_iterations_per_trial, information=information)\n",
    "        if results[\"best_affinity\"]<best_affinity:\n",
    "            best_affinity = results[\"best_affinity\"]\n",
    "            best_molecule = results[\"best_molecule\"]\n",
    "        if results[\"pcc\"] < best_pcc:\n",
    "            best_pcc = results[\"pcc\"]\n",
    "        avg_affinity += (results[\"best_affinity\"]/num_trials)\n",
    "        avg_best_iteration += (results[\"best_iteration\"]/num_trials)\n",
    "        avg_pcc += (results[\"pcc\"]/num_trials)\n",
    "        avg_runtime += (results[\"execution_time\"]/num_trials)\n",
    "    stats = {\"best_affinity\": best_affinity, \"best_molecule\": best_molecule, \n",
    "             \"best_pcc\": best_pcc, \"avg_affinity\": avg_affinity,\n",
    "             \"avg_best_iteration\":avg_best_iteration, \"avg_pcc\":avg_pcc, \"avg_runtime\":avg_runtime}\n",
    "    print(f\"{information} information stats: \", stats)\n",
    "    return stats\n",
    "    \n",
    "# basic_test_stats = test_configuration(information=\"Basic\", num_trials=num_trials, num_iterations_per_trial=25)\n",
    "extra_data_test_stats = test_configuration(information=\"Extra\", num_trials=num_trials, num_iterations_per_trial=25)\n",
    "# random_test_stats = test_configuration(information=\"Random\", num_trials=num_trials, num_iterations_per_trial=25)"
   ]
  },
  {
   "cell_type": "code",
   "execution_count": 2,
   "metadata": {},
   "outputs": [
    {
     "name": "stdout",
     "output_type": "stream",
     "text": [
      "(-13.45, 'Cc1c(C(=O)Nc2cc(Cl)cc(Cl)c2)c(-c2cnc(N(Cc3ccc(CN)cc3)Cc4cc(Cl)cc(Cl)c4)nc2)c[nH]n1\\n', np.float64(-0.8383780469864707), np.float64(1.677230560909288e-07), -10.333, 16.8, np.float64(-0.229057834874059), np.float64(0.294019050953966), 538.5213061094285)\n",
      "(-12.93, 'Cc1cc(C)c(NC(=O)c2cc(Cl)cc(Cl)c2Nc3ncc(NC(=O)c4c[nH]c5ccccc45)cc3-c3c(O)ncn3)cc(C)c1Cl\\n', np.float64(-0.789122841261863), np.float64(2.760056714350675e-06), -10.514000000000001, 18.3, np.float64(-0.3278803093809402), np.float64(0.1938652189866187), 648.6398192167283)\n"
     ]
    }
   ],
   "source": [
    "from scipy.stats import pearsonr\n",
    "print(basic_test_stats)\n",
    "print(extra_data_test_stats)"
   ]
  }
 ],
 "metadata": {
  "kernelspec": {
   "display_name": "drug-discovery-llm",
   "language": "python",
   "name": "python3"
  },
  "language_info": {
   "codemirror_mode": {
    "name": "ipython",
    "version": 3
   },
   "file_extension": ".py",
   "mimetype": "text/x-python",
   "name": "python",
   "nbconvert_exporter": "python",
   "pygments_lexer": "ipython3",
   "version": "3.12.9"
  }
 },
 "nbformat": 4,
 "nbformat_minor": 2
}
